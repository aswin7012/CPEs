{
  "cells": [
    {
      "cell_type": "code",
      "execution_count": null,
      "metadata": {
        "id": "eNvmIJnhDjGL"
      },
      "outputs": [],
      "source": [
        "pip install pymongo json"
      ]
    },
    {
      "cell_type": "code",
      "execution_count": null,
      "metadata": {
        "id": "fRwcXX9XEUGG"
      },
      "outputs": [],
      "source": [
        "import pymongo\n",
        "\n",
        "myclient = pymongo.MongoClient(\"mongodb://localhost:27017/\")\n",
        "\n",
        "mydb = myclient[\"dbtest\"]\n",
        "mycol = mydb[\"CPE\"]"
      ]
    },
    {
      "cell_type": "code",
      "execution_count": null,
      "metadata": {
        "id": "OGqte71HJVoA"
      },
      "outputs": [],
      "source": [
        "import json\n",
        "with open('data.json', 'r') as file:\n",
        "    data = json.load(file)"
      ]
    },
    {
      "cell_type": "code",
      "execution_count": null,
      "metadata": {
        "id": "PSG668-yJmcS"
      },
      "outputs": [],
      "source": [
        "data = data['cpe-list']['cpe-item']\n",
        "len(data)"
      ]
    },
    {
      "cell_type": "code",
      "execution_count": null,
      "metadata": {
        "id": "aCve2lHpNZ8L"
      },
      "outputs": [],
      "source": [
        "from datetime import datetime\n",
        "\n",
        "extracted = []\n",
        "\n",
        "for item in data:\n",
        "    title = item.get('title', {})\n",
        "    if isinstance(title, list):\n",
        "        title = title[0].get('#text')\n",
        "    else:\n",
        "        title = title.get('#text')\n",
        "    refs = item.get('references', {}).get('reference', [])\n",
        "    if isinstance(refs, dict):\n",
        "        refs = [refs]\n",
        "    references = [ref.get('@href') for ref in refs if '@href' in ref]\n",
        "    deprecation_date = item.get('@deprecation_date')\n",
        "    if not deprecation_date:\n",
        "        deprecation_date = item.get('cpe-23:cpe23-item', {}).get('cpe-23:deprecation', {}).get('@date')\n",
        "    if deprecation_date:\n",
        "        deprecation_date = deprecation_date[:10]\n",
        "        try:\n",
        "            deprecation_date = datetime.strptime(deprecation_date, \"%Y-%m-%d\")\n",
        "        except Exception:\n",
        "            deprecation_date = None\n",
        "    else:\n",
        "        deprecation_date = None\n",
        "    cpe23_url = item.get('cpe-23:cpe23-item', {}).get('@name')\n",
        "    extracted.append({\n",
        "        \"title\": title,\n",
        "        \"cpe23_url\": cpe23_url,\n",
        "        \"references\": references,\n",
        "        \"deprecation_date\": deprecation_date\n",
        "    })\n"
      ]
    },
    {
      "cell_type": "code",
      "execution_count": null,
      "metadata": {
        "id": "GffyITIoRDS1"
      },
      "outputs": [],
      "source": [
        "print(extracted[1])\n",
        "len(extracted)"
      ]
    },
    {
      "cell_type": "code",
      "execution_count": null,
      "metadata": {
        "id": "0Wddze3Fiy6_"
      },
      "outputs": [],
      "source": [
        "mycol.insert_many(extracted)"
      ]
    }
  ],
  "metadata": {
    "colab": {
      "provenance": []
    },
    "kernelspec": {
      "display_name": "Python 3",
      "name": "python3"
    },
    "language_info": {
      "codemirror_mode": {
        "name": "ipython",
        "version": 3
      },
      "file_extension": ".py",
      "mimetype": "text/x-python",
      "name": "python",
      "nbconvert_exporter": "python",
      "pygments_lexer": "ipython3",
      "version": "3.13.2"
    }
  },
  "nbformat": 4,
  "nbformat_minor": 0
}
