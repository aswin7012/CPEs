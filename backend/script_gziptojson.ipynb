{
  "nbformat": 4,
  "nbformat_minor": 0,
  "metadata": {
    "colab": {
      "provenance": [],
      "gpuType": "T4"
    },
    "kernelspec": {
      "name": "python3",
      "display_name": "Python 3"
    },
    "language_info": {
      "name": "python"
    },
    "accelerator": "GPU"
  },
  "cells": [
    {
      "cell_type": "code",
      "execution_count": 6,
      "metadata": {
        "id": "NMeg1NcnsI3b"
      },
      "outputs": [],
      "source": [
        "import gzip\n",
        "import shutil\n",
        "with gzip.open('/content/official-cpe-dictionary_v2.3.xml.gz', 'rb') as f_in:\n",
        "    with open('data.xml', 'wb') as f_out:\n",
        "        shutil.copyfileobj(f_in, f_out)"
      ]
    },
    {
      "cell_type": "code",
      "source": [
        "import xmltodict\n",
        "import pprint\n",
        "\n",
        "with open('data.xml', 'r', encoding='utf-8') as file:\n",
        "    my_xml = file.read()\n",
        "my_dict = xmltodict.parse(my_xml)\n"
      ],
      "metadata": {
        "id": "lzP2RZjz3nAu"
      },
      "execution_count": 8,
      "outputs": []
    },
    {
      "cell_type": "code",
      "source": [
        "import json\n",
        "def convert_and_export_dictionary(dictionary, filename=\"output.json\"):\n",
        "    try:\n",
        "        json_string = json.dumps(dictionary, indent=4)\n",
        "        with open(filename, 'w') as file:\n",
        "            file.write(json_string)\n",
        "\n",
        "        print(f\"Dictionary successfully converted to JSON and saved to {filename}\")\n",
        "    except Exception as e:\n",
        "        print(f\"An error occurred: {e}\")\n",
        "\n",
        "convert_and_export_dictionary(my_dict, \"data.json\")"
      ],
      "metadata": {
        "colab": {
          "base_uri": "https://localhost:8080/"
        },
        "id": "xsgaf4qE6GmR",
        "outputId": "e5116c7a-3f15-4ef8-9d7d-40142128cad4"
      },
      "execution_count": 9,
      "outputs": [
        {
          "output_type": "stream",
          "name": "stdout",
          "text": [
            "Dictionary successfully converted to JSON and saved to data.json\n"
          ]
        }
      ]
    },
    {
      "cell_type": "code",
      "source": [],
      "metadata": {
        "id": "stZlt1Nz6lT0"
      },
      "execution_count": null,
      "outputs": []
    }
  ]
}