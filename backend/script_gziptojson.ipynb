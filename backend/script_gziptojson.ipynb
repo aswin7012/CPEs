{
  "cells": [
    {
      "cell_type": "code",
      "execution_count": null,
      "metadata": {},
      "outputs": [],
      "source": [
        "pip install xmltodict"
      ]
    },
    {
      "cell_type": "code",
      "execution_count": null,
      "metadata": {
        "id": "NMeg1NcnsI3b"
      },
      "outputs": [],
      "source": [
        "import gzip\n",
        "import shutil\n",
        "with gzip.open('/content/data.gz', 'rb') as f_in:\n",
        "    with open('data.xml', 'wb') as f_out:\n",
        "        shutil.copyfileobj(f_in, f_out)"
      ]
    },
    {
      "cell_type": "code",
      "execution_count": null,
      "metadata": {
        "id": "lzP2RZjz3nAu"
      },
      "outputs": [],
      "source": [
        "import xmltodict\n",
        "\n",
        "with open('data.xml', 'r', encoding='utf-8') as file:\n",
        "    my_xml = file.read()\n",
        "my_dict = xmltodict.parse(my_xml)\n"
      ]
    },
    {
      "cell_type": "code",
      "execution_count": null,
      "metadata": {
        "colab": {
          "base_uri": "https://localhost:8080/"
        },
        "id": "xsgaf4qE6GmR",
        "outputId": "e5116c7a-3f15-4ef8-9d7d-40142128cad4"
      },
      "outputs": [],
      "source": [
        "import json\n",
        "def convert_and_export_dictionary(dictionary, filename=\"output.json\"):\n",
        "    try:\n",
        "        json_string = json.dumps(dictionary, indent=4)\n",
        "        with open(filename, 'w') as file:\n",
        "            file.write(json_string)\n",
        "    except Exception as e:\n",
        "        print(f\"An error occurred: {e}\")\n",
        "\n",
        "convert_and_export_dictionary(my_dict, \"data.json\")"
      ]
    }
  ],
  "metadata": {
    "accelerator": "GPU",
    "colab": {
      "gpuType": "T4",
      "provenance": []
    },
    "kernelspec": {
      "display_name": "Python 3",
      "name": "python3"
    },
    "language_info": {
      "name": "python"
    }
  },
  "nbformat": 4,
  "nbformat_minor": 0
}
